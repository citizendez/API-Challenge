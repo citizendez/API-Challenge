{
 "cells": [
  {
   "cell_type": "code",
   "execution_count": 1,
   "metadata": {},
   "outputs": [],
   "source": [
    "#!pip install tweepy"
   ]
  },
  {
   "cell_type": "code",
   "execution_count": 8,
   "metadata": {},
   "outputs": [],
   "source": [
    "#!pip install vaderSentiment"
   ]
  },
  {
   "cell_type": "code",
   "execution_count": 3,
   "metadata": {},
   "outputs": [],
   "source": [
    "import tweepy\n",
    "import json\n",
    "import pandas as pd\n",
    "import matplotlib.pyplot as plt\n",
    "from vaderSentiment.vaderSentiment import SentimentIntensityAnalyzer"
   ]
  },
  {
   "cell_type": "code",
   "execution_count": 4,
   "metadata": {},
   "outputs": [],
   "source": [
    "from config import consumer_key, consumer_secret, access_token, access_token_secret"
   ]
  },
  {
   "cell_type": "code",
   "execution_count": 5,
   "metadata": {},
   "outputs": [],
   "source": [
    "# Setup Tweepy API Authentication\n",
    "auth = tweepy.OAuthHandler(consumer_key, consumer_secret)\n",
    "auth.set_access_token(access_token, access_token_secret)\n",
    "api = tweepy.API(auth, parser=tweepy.parsers.JSONParser())"
   ]
  },
  {
   "cell_type": "code",
   "execution_count": 6,
   "metadata": {},
   "outputs": [],
   "source": [
    "# User Accounts\n",
    "news_orgs = ['BBC', 'CNN', 'CBSNews', 'FoxNews', 'nytimes']"
   ]
  },
  {
   "cell_type": "code",
   "execution_count": 9,
   "metadata": {},
   "outputs": [
    {
     "data": {
      "text/html": [
       "<div>\n",
       "<style scoped>\n",
       "    .dataframe tbody tr th:only-of-type {\n",
       "        vertical-align: middle;\n",
       "    }\n",
       "\n",
       "    .dataframe tbody tr th {\n",
       "        vertical-align: top;\n",
       "    }\n",
       "\n",
       "    .dataframe thead th {\n",
       "        text-align: right;\n",
       "    }\n",
       "</style>\n",
       "<table border=\"1\" class=\"dataframe\">\n",
       "  <thead>\n",
       "    <tr style=\"text-align: right;\">\n",
       "      <th></th>\n",
       "      <th>ORG</th>\n",
       "      <th>TWEET_TEXT</th>\n",
       "      <th>TWEET_DATE</th>\n",
       "    </tr>\n",
       "  </thead>\n",
       "  <tbody>\n",
       "    <tr>\n",
       "      <th>0</th>\n",
       "      <td>BBC</td>\n",
       "      <td>With Cornish wildlife facing so many threats f...</td>\n",
       "      <td>Sun Nov 15 16:01:00 +0000 2020</td>\n",
       "    </tr>\n",
       "    <tr>\n",
       "      <th>1</th>\n",
       "      <td>BBC</td>\n",
       "      <td>RT @bbcasiannetwork: Happy Diwali and Bandi Ch...</td>\n",
       "      <td>Sat Nov 14 19:54:57 +0000 2020</td>\n",
       "    </tr>\n",
       "    <tr>\n",
       "      <th>2</th>\n",
       "      <td>BBC</td>\n",
       "      <td>It's the clash of the tennis titans 🎾👊@Andy_Mu...</td>\n",
       "      <td>Fri Nov 13 22:18:26 +0000 2020</td>\n",
       "    </tr>\n",
       "    <tr>\n",
       "      <th>3</th>\n",
       "      <td>BBC</td>\n",
       "      <td>RT @BBCRadio2: The official video for this yea...</td>\n",
       "      <td>Fri Nov 13 21:00:12 +0000 2020</td>\n",
       "    </tr>\n",
       "    <tr>\n",
       "      <th>4</th>\n",
       "      <td>BBC</td>\n",
       "      <td>Thanks for the exclusive performance for @bbcc...</td>\n",
       "      <td>Fri Nov 13 20:33:26 +0000 2020</td>\n",
       "    </tr>\n",
       "    <tr>\n",
       "      <th>...</th>\n",
       "      <td>...</td>\n",
       "      <td>...</td>\n",
       "      <td>...</td>\n",
       "    </tr>\n",
       "    <tr>\n",
       "      <th>495</th>\n",
       "      <td>nytimes</td>\n",
       "      <td>Breaking News: Israeli agents shot Al Qaeda’s ...</td>\n",
       "      <td>Sat Nov 14 00:48:02 +0000 2020</td>\n",
       "    </tr>\n",
       "    <tr>\n",
       "      <th>496</th>\n",
       "      <td>nytimes</td>\n",
       "      <td>Stocks climbed to a record, after a rally that...</td>\n",
       "      <td>Sat Nov 14 00:40:03 +0000 2020</td>\n",
       "    </tr>\n",
       "    <tr>\n",
       "      <th>497</th>\n",
       "      <td>nytimes</td>\n",
       "      <td>RT @jacknicas: I wrote about Tommy Heinsohn, t...</td>\n",
       "      <td>Sat Nov 14 00:20:05 +0000 2020</td>\n",
       "    </tr>\n",
       "    <tr>\n",
       "      <th>498</th>\n",
       "      <td>nytimes</td>\n",
       "      <td>China’s unusual new coronavirus testing policy...</td>\n",
       "      <td>Sat Nov 14 00:00:11 +0000 2020</td>\n",
       "    </tr>\n",
       "    <tr>\n",
       "      <th>499</th>\n",
       "      <td>nytimes</td>\n",
       "      <td>Millions of American students are attending sc...</td>\n",
       "      <td>Fri Nov 13 23:40:04 +0000 2020</td>\n",
       "    </tr>\n",
       "  </tbody>\n",
       "</table>\n",
       "<p>500 rows × 3 columns</p>\n",
       "</div>"
      ],
      "text/plain": [
       "         ORG                                         TWEET_TEXT  \\\n",
       "0        BBC  With Cornish wildlife facing so many threats f...   \n",
       "1        BBC  RT @bbcasiannetwork: Happy Diwali and Bandi Ch...   \n",
       "2        BBC  It's the clash of the tennis titans 🎾👊@Andy_Mu...   \n",
       "3        BBC  RT @BBCRadio2: The official video for this yea...   \n",
       "4        BBC  Thanks for the exclusive performance for @bbcc...   \n",
       "..       ...                                                ...   \n",
       "495  nytimes  Breaking News: Israeli agents shot Al Qaeda’s ...   \n",
       "496  nytimes  Stocks climbed to a record, after a rally that...   \n",
       "497  nytimes  RT @jacknicas: I wrote about Tommy Heinsohn, t...   \n",
       "498  nytimes  China’s unusual new coronavirus testing policy...   \n",
       "499  nytimes  Millions of American students are attending sc...   \n",
       "\n",
       "                         TWEET_DATE  \n",
       "0    Sun Nov 15 16:01:00 +0000 2020  \n",
       "1    Sat Nov 14 19:54:57 +0000 2020  \n",
       "2    Fri Nov 13 22:18:26 +0000 2020  \n",
       "3    Fri Nov 13 21:00:12 +0000 2020  \n",
       "4    Fri Nov 13 20:33:26 +0000 2020  \n",
       "..                              ...  \n",
       "495  Sat Nov 14 00:48:02 +0000 2020  \n",
       "496  Sat Nov 14 00:40:03 +0000 2020  \n",
       "497  Sat Nov 14 00:20:05 +0000 2020  \n",
       "498  Sat Nov 14 00:00:11 +0000 2020  \n",
       "499  Fri Nov 13 23:40:04 +0000 2020  \n",
       "\n",
       "[500 rows x 3 columns]"
      ]
     },
     "execution_count": 9,
     "metadata": {},
     "output_type": "execute_result"
    }
   ],
   "source": [
    "#create dataframe with new columns\n",
    "df_tweets = pd.DataFrame()\n",
    "df_tweets['ORG'] = ''\n",
    "df_tweets['TWEET_TEXT'] = ''\n",
    "df_tweets['TWEET_DATE'] = ''\n",
    "\n",
    "#make api call. run loop to save dataframe to local, get data from local only\n",
    "#put the breaks on my loop to keep from too many calls.  Originaly set to 10,000\n",
    "max_records = -1\n",
    "\n",
    "i = 0\n",
    "\n",
    "for org in news_orgs:\n",
    "    if i > max_records:\n",
    "        break\n",
    "    public_tweets = api.user_timeline(org, count=100)\n",
    "    for tweet in public_tweets:\n",
    "        df_tweets.loc[i, 'ORG'] = org\n",
    "        df_tweets.loc[i, 'TWEET_TEXT'] = tweet['text']\n",
    "        df_tweets.loc[i, 'TWEET_DATE'] = tweet['created_at']\n",
    "        i = i + 1\n",
    "    \n",
    "if len(df_tweets) > 1:\n",
    "    df_tweets.to_csv('df_tweets.csv', index=False)\n",
    "        \n",
    "df_tweets=pd.read_csv('df_tweets.csv')\n",
    "df_tweets"
   ]
  },
  {
   "cell_type": "code",
   "execution_count": 10,
   "metadata": {},
   "outputs": [
    {
     "data": {
      "text/html": [
       "<div>\n",
       "<style scoped>\n",
       "    .dataframe tbody tr th:only-of-type {\n",
       "        vertical-align: middle;\n",
       "    }\n",
       "\n",
       "    .dataframe tbody tr th {\n",
       "        vertical-align: top;\n",
       "    }\n",
       "\n",
       "    .dataframe thead th {\n",
       "        text-align: right;\n",
       "    }\n",
       "</style>\n",
       "<table border=\"1\" class=\"dataframe\">\n",
       "  <thead>\n",
       "    <tr style=\"text-align: right;\">\n",
       "      <th></th>\n",
       "      <th>ORG</th>\n",
       "      <th>TWEET_TEXT</th>\n",
       "      <th>TWEET_DATE</th>\n",
       "    </tr>\n",
       "  </thead>\n",
       "  <tbody>\n",
       "    <tr>\n",
       "      <th>0</th>\n",
       "      <td>BBC</td>\n",
       "      <td>With Cornish wildlife facing so many threats f...</td>\n",
       "      <td>2020-11-15</td>\n",
       "    </tr>\n",
       "    <tr>\n",
       "      <th>100</th>\n",
       "      <td>CNN</td>\n",
       "      <td>\"I think that his message of, 'Hey... I'm goin...</td>\n",
       "      <td>2020-11-15</td>\n",
       "    </tr>\n",
       "    <tr>\n",
       "      <th>101</th>\n",
       "      <td>CNN</td>\n",
       "      <td>An 85-year-old primary school in Shanghai has ...</td>\n",
       "      <td>2020-11-15</td>\n",
       "    </tr>\n",
       "    <tr>\n",
       "      <th>102</th>\n",
       "      <td>CNN</td>\n",
       "      <td>\"Once all the ranting and suing is over, Biden...</td>\n",
       "      <td>2020-11-15</td>\n",
       "    </tr>\n",
       "    <tr>\n",
       "      <th>103</th>\n",
       "      <td>CNN</td>\n",
       "      <td>How to decline a Thanksgiving invitation due t...</td>\n",
       "      <td>2020-11-15</td>\n",
       "    </tr>\n",
       "    <tr>\n",
       "      <th>...</th>\n",
       "      <td>...</td>\n",
       "      <td>...</td>\n",
       "      <td>...</td>\n",
       "    </tr>\n",
       "    <tr>\n",
       "      <th>418</th>\n",
       "      <td>nytimes</td>\n",
       "      <td>Despite hundreds of thousands protesting again...</td>\n",
       "      <td>2020-11-15</td>\n",
       "    </tr>\n",
       "    <tr>\n",
       "      <th>419</th>\n",
       "      <td>nytimes</td>\n",
       "      <td>It took a century to open. A mosque in Athens ...</td>\n",
       "      <td>2020-11-15</td>\n",
       "    </tr>\n",
       "    <tr>\n",
       "      <th>420</th>\n",
       "      <td>nytimes</td>\n",
       "      <td>Though the future is hazy at best, both owners...</td>\n",
       "      <td>2020-11-15</td>\n",
       "    </tr>\n",
       "    <tr>\n",
       "      <th>421</th>\n",
       "      <td>nytimes</td>\n",
       "      <td>What if the room you're escaping is in your sc...</td>\n",
       "      <td>2020-11-15</td>\n",
       "    </tr>\n",
       "    <tr>\n",
       "      <th>422</th>\n",
       "      <td>nytimes</td>\n",
       "      <td>\"Hamilton\" and \"American Utopia\" are just the ...</td>\n",
       "      <td>2020-11-15</td>\n",
       "    </tr>\n",
       "  </tbody>\n",
       "</table>\n",
       "<p>112 rows × 3 columns</p>\n",
       "</div>"
      ],
      "text/plain": [
       "         ORG                                         TWEET_TEXT  TWEET_DATE\n",
       "0        BBC  With Cornish wildlife facing so many threats f...  2020-11-15\n",
       "100      CNN  \"I think that his message of, 'Hey... I'm goin...  2020-11-15\n",
       "101      CNN  An 85-year-old primary school in Shanghai has ...  2020-11-15\n",
       "102      CNN  \"Once all the ranting and suing is over, Biden...  2020-11-15\n",
       "103      CNN  How to decline a Thanksgiving invitation due t...  2020-11-15\n",
       "..       ...                                                ...         ...\n",
       "418  nytimes  Despite hundreds of thousands protesting again...  2020-11-15\n",
       "419  nytimes  It took a century to open. A mosque in Athens ...  2020-11-15\n",
       "420  nytimes  Though the future is hazy at best, both owners...  2020-11-15\n",
       "421  nytimes  What if the room you're escaping is in your sc...  2020-11-15\n",
       "422  nytimes  \"Hamilton\" and \"American Utopia\" are just the ...  2020-11-15\n",
       "\n",
       "[112 rows x 3 columns]"
      ]
     },
     "execution_count": 10,
     "metadata": {},
     "output_type": "execute_result"
    }
   ],
   "source": [
    "#convert dates\n",
    "df_tweets['TWEET_DATE']=pd.to_datetime(df_tweets['TWEET_DATE']).dt.date\n",
    "df_tweets.loc[df_tweets['TWEET_DATE'] == pd.to_datetime('2020-11-15')]"
   ]
  },
  {
   "cell_type": "code",
   "execution_count": 11,
   "metadata": {},
   "outputs": [
    {
     "name": "stdout",
     "output_type": "stream",
     "text": [
      "{'neg': 0.0, 'neu': 0.0, 'pos': 1.0, 'compound': 0.6369}\n",
      "{'neg': 1.0, 'neu': 0.0, 'pos': 0.0, 'compound': -0.6597}\n"
     ]
    }
   ],
   "source": [
    "analyser = SentimentIntensityAnalyzer()\n",
    "print(analyser.polarity_scores('LOVE'))\n",
    "print(analyser.polarity_scores('EVIL'))"
   ]
  },
  {
   "cell_type": "code",
   "execution_count": 14,
   "metadata": {},
   "outputs": [
    {
     "data": {
      "image/png": "[encoded data removed]",
      "text/plain": [
       "<Figure size 432x288 with 1 Axes>"
      ]
     },
     "metadata": {},
     "output_type": "display_data"
    }
   ],
   "source": [
    "#create plot\n",
    "df_filtered = df_tweets\n",
    "\n",
    "for i, row in df_tweets.iterrows():\n",
    "    dic = analyser.polarity_scores(row['TWEET_TEXT'])\n",
    "    df_tweets.loc[i, 'Negative'] = dic['neg']\n",
    "    df_tweets.loc[i, 'Neutral'] = dic['neu']\n",
    "    df_tweets.loc[i, 'Positive'] = dic['pos']\n",
    "    df_tweets.loc[i, 'Compound'] = dic['compound']\n",
    "\n",
    "df_filtered = df_filtered[df_filtered['TWEET_DATE'] == pd.to_datetime('2020-11-15')]\n",
    "for org in news_orgs:\n",
    "    df=df_filtered[df_filtered['ORG']==org]\n",
    "    df=df.sort_values(by='TWEET_DATE', inplace=False)\n",
    "    plt.scatter( range(len(df)), df['Compound'])\n",
    "#format plot    \n",
    "plt.style.use('ggplot')   \n",
    "plt.title('Sentiment Analysis of Media Tweets November 15, 2020')\n",
    "plt.ylabel('Tweet Polarity')\n",
    "plt.xlabel('Tweets Ago')\n",
    "\n",
    "#export .png of figure\n",
    "plt.savefig(\"Fig1.png\")\n",
    "plt.show()"
   ]
  },
  {
   "cell_type": "code",
   "execution_count": 15,
   "metadata": {},
   "outputs": [
    {
     "data": {
      "image/png": "[encoded data removed]",
      "text/plain": [
       "<Figure size 432x288 with 1 Axes>"
      ]
     },
     "metadata": {},
     "output_type": "display_data"
    }
   ],
   "source": [
    "for org in news_orgs:\n",
    "    df=df_filtered[df_filtered['ORG']==org]\n",
    "    df=df.sort_values(by='TWEET_DATE', inplace=False)\n",
    "    plt.bar(df['ORG'], df['Compound'])\n",
    "#format plot    \n",
    "plt.style.use('ggplot')   \n",
    "plt.title('Overall Media Stentiment Based on Twitter November 15, 2020')\n",
    "plt.ylabel('Tweet Polarity')\n",
    "plt.xlabel('Tweets Ago')\n",
    "\n",
    "#export .png of figure\n",
    "plt.savefig(\"Fig2.png\")\n",
    "plt.show()"
   ]
  }
 ],
 "metadata": {
  "kernelspec": {
   "display_name": "Python 3",
   "language": "python",
   "name": "python3"
  },
  "language_info": {
   "codemirror_mode": {
    "name": "ipython",
    "version": 3
   },
   "file_extension": ".py",
   "mimetype": "text/x-python",
   "name": "python",
   "nbconvert_exporter": "python",
   "pygments_lexer": "ipython3",
   "version": "3.8.3"
  }
 },
 "nbformat": 4,
 "nbformat_minor": 4
}
